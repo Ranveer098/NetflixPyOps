{
 "cells": [
  {
   "cell_type": "code",
   "execution_count": 1,
   "id": "56063ed2-d79a-4b54-8a09-e9c0768202b8",
   "metadata": {},
   "outputs": [
    {
     "name": "stdout",
     "output_type": "stream",
     "text": [
      "     Show_Id Category                                    Title  \\\n",
      "0         s1  TV Show                                       3%   \n",
      "1         s2    Movie                                    07:19   \n",
      "2         s3    Movie                                    23:59   \n",
      "3         s4    Movie                                        9   \n",
      "4         s5    Movie                                       21   \n",
      "...      ...      ...                                      ...   \n",
      "7784   s7783    Movie                                     Zozo   \n",
      "7785   s7784    Movie                                   Zubaan   \n",
      "7786   s7785    Movie                        Zulu Man in Japan   \n",
      "7787   s7786  TV Show                    Zumbo's Just Desserts   \n",
      "7788   s7787    Movie  ZZ TOP: THAT LITTLE OL' BAND FROM TEXAS   \n",
      "\n",
      "               Director                                               Cast  \\\n",
      "0                   NaN  João Miguel, Bianca Comparato, Michel Gomes, R...   \n",
      "1     Jorge Michel Grau  Demián Bichir, Héctor Bonilla, Oscar Serrano, ...   \n",
      "2          Gilbert Chan  Tedd Chan, Stella Chung, Henley Hii, Lawrence ...   \n",
      "3           Shane Acker  Elijah Wood, John C. Reilly, Jennifer Connelly...   \n",
      "4        Robert Luketic  Jim Sturgess, Kevin Spacey, Kate Bosworth, Aar...   \n",
      "...                 ...                                                ...   \n",
      "7784        Josef Fares  Imad Creidi, Antoinette Turk, Elias Gergi, Car...   \n",
      "7785        Mozez Singh  Vicky Kaushal, Sarah-Jane Dias, Raaghav Chanan...   \n",
      "7786                NaN                                            Nasty C   \n",
      "7787                NaN                         Adriano Zumbo, Rachel Khoo   \n",
      "7788           Sam Dunn                                                NaN   \n",
      "\n",
      "                                                Country        Release_Date  \\\n",
      "0                                                Brazil     August 14, 2020   \n",
      "1                                                Mexico   December 23, 2016   \n",
      "2                                             Singapore   December 20, 2018   \n",
      "3                                         United States   November 16, 2017   \n",
      "4                                         United States     January 1, 2020   \n",
      "...                                                 ...                 ...   \n",
      "7784  Sweden, Czech Republic, United Kingdom, Denmar...    October 19, 2020   \n",
      "7785                                              India       March 2, 2019   \n",
      "7786                                                NaN  September 25, 2020   \n",
      "7787                                          Australia    October 31, 2020   \n",
      "7788              United Kingdom, Canada, United States       March 1, 2020   \n",
      "\n",
      "     Rating   Duration                                               Type  \\\n",
      "0     TV-MA  4 Seasons  International TV Shows, TV Dramas, TV Sci-Fi &...   \n",
      "1     TV-MA     93 min                       Dramas, International Movies   \n",
      "2         R     78 min                Horror Movies, International Movies   \n",
      "3     PG-13     80 min  Action & Adventure, Independent Movies, Sci-Fi...   \n",
      "4     PG-13    123 min                                             Dramas   \n",
      "...     ...        ...                                                ...   \n",
      "7784  TV-MA     99 min                       Dramas, International Movies   \n",
      "7785  TV-14    111 min     Dramas, International Movies, Music & Musicals   \n",
      "7786  TV-MA     44 min  Documentaries, International Movies, Music & M...   \n",
      "7787  TV-PG   1 Season                 International TV Shows, Reality TV   \n",
      "7788  TV-MA     90 min                    Documentaries, Music & Musicals   \n",
      "\n",
      "                                            Description  \n",
      "0     In a future where the elite inhabit an island ...  \n",
      "1     After a devastating earthquake hits Mexico Cit...  \n",
      "2     When an army recruit is found dead, his fellow...  \n",
      "3     In a postapocalyptic world, rag-doll robots hi...  \n",
      "4     A brilliant group of students become card-coun...  \n",
      "...                                                 ...  \n",
      "7784  When Lebanon's Civil War deprives Zozo of his ...  \n",
      "7785  A scrappy but poor boy worms his way into a ty...  \n",
      "7786  In this documentary, South African rapper Nast...  \n",
      "7787  Dessert wizard Adriano Zumbo looks for the nex...  \n",
      "7788  This documentary delves into the mystique behi...  \n",
      "\n",
      "[7789 rows x 11 columns]\n"
     ]
    }
   ],
   "source": [
    "import pandas as pd\n",
    "data=pd.read_csv(\"Netflix'_datasets.csv\")\n",
    "df=pd.DataFrame(data)\n",
    "print(data)"
   ]
  },
  {
   "cell_type": "code",
   "execution_count": null,
   "id": "97058f8f-18f4-4b10-903c-4983d11ccd57",
   "metadata": {},
   "outputs": [],
   "source": []
  }
 ],
 "metadata": {
  "kernelspec": {
   "display_name": "Python 3 (ipykernel)",
   "language": "python",
   "name": "python3"
  },
  "language_info": {
   "codemirror_mode": {
    "name": "ipython",
    "version": 3
   },
   "file_extension": ".py",
   "mimetype": "text/x-python",
   "name": "python",
   "nbconvert_exporter": "python",
   "pygments_lexer": "ipython3",
   "version": "3.12.2"
  }
 },
 "nbformat": 4,
 "nbformat_minor": 5
}
